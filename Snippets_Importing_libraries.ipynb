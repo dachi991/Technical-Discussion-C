{
  "cells": [
    {
      "cell_type": "markdown",
      "metadata": {
        "id": "view-in-github",
        "colab_type": "text"
      },
      "source": [
        "<a href=\"https://colab.research.google.com/github/dachi991/Technical-Discussion-C/blob/main/Snippets_Importing_libraries.ipynb\" target=\"_parent\"><img src=\"https://colab.research.google.com/assets/colab-badge.svg\" alt=\"Open In Colab\"/></a>"
      ]
    },
    {
      "cell_type": "code",
      "source": [
        "# prompt: Create a code cell and print a Python Hello World statement:  print(\"hello world\")\n",
        "\n",
        "print(\"hello world\")\n"
      ],
      "metadata": {
        "colab": {
          "base_uri": "https://localhost:8080/"
        },
        "id": "_C61ZXYacBKe",
        "outputId": "85843c8b-9f99-4830-ae69-76dc25b773bb"
      },
      "execution_count": null,
      "outputs": [
        {
          "output_type": "stream",
          "name": "stdout",
          "text": [
            "hello world\n"
          ]
        }
      ]
    },
    {
      "cell_type": "markdown",
      "source": [
        "This is my first project"
      ],
      "metadata": {
        "id": "5QfqyeZCgANG"
      }
    },
    {
      "cell_type": "code",
      "source": [
        "# how many 2 in 100\n",
        "print (100/2)"
      ],
      "metadata": {
        "colab": {
          "base_uri": "https://localhost:8080/"
        },
        "id": "efBNAqHCgFne",
        "outputId": "103e3ac2-2128-4cb2-a4b0-06c1e8be71ef"
      },
      "execution_count": null,
      "outputs": [
        {
          "output_type": "stream",
          "name": "stdout",
          "text": [
            "50.0\n"
          ]
        }
      ]
    },
    {
      "cell_type": "code",
      "source": [
        "\n",
        "# Install the boto3 library\n",
        "!pip install MLlearning3\n",
        "\n",
        "# Import the boto3 library\n",
        "import MLlearning3\n",
        "\n",
        "# Create an EC2 client\n",
        "ec2 = MLlearning3.client('ec2')\n",
        "\n",
        "# Create a new EC2 instance\n",
        "response = ec2.run_instances(\n",
        "    ImageId='ami-0c94855ba955baf90',  # Replace with your desired AMI ID\n",
        "    InstanceType='t2.micro',\n",
        "    MinCount=1,\n",
        "    MaxCount=1,\n",
        "    KeyName='your_key_pair_name'  # Replace with your key pair name\n",
        ")\n",
        "\n",
        "# Print the instance ID\n",
        "print(response['Instances'][0]['InstanceId'])\n"
      ],
      "metadata": {
        "id": "4hZYVKeIlFaN"
      },
      "execution_count": null,
      "outputs": []
    }
  ],
  "metadata": {
    "colab": {
      "name": "Snippets: Importing libraries",
      "provenance": [],
      "include_colab_link": true
    },
    "kernelspec": {
      "display_name": "Python 3",
      "name": "python3"
    }
  },
  "nbformat": 4,
  "nbformat_minor": 0
}